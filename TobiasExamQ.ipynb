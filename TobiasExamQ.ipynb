{
 "cells": [
  {
   "cell_type": "markdown",
   "metadata": {},
   "source": [
    "### __Q posed by [@tobiasgalla](https://twitter.com/tobiasgalla):__ Multiple choice test, 5 questions. Each question has N answers, only 1 of which is correct. You score +2 for a correct answer, -1 for an incorrect answer, and 0 if the question is not answered. When you answer, you answer randomly. You pass the test if your total score is >=5. How many questions should you attempt to maximise $\\mathcal{P}$(pass)? "
   ]
  },
  {
   "cell_type": "code",
   "execution_count": 60,
   "metadata": {},
   "outputs": [],
   "source": [
    "# Run me first :) \n",
    "\n",
    "from scipy.stats import binom\n",
    "from matplotlib  import pyplot\n",
    "from math        import ceil\n",
    "from numpy       import arange\n",
    "\n",
    "## Plot defaults ##\n",
    "pyplot.rc('text', usetex=True)\n",
    "pyplot.rcParams['text.latex.preamble'] = [\n",
    "r'\\usepackage{cmbright}',\n",
    "r'\\renewcommand{\\familydefault}{\\sfdefault}'\n",
    "]\n",
    "pyplot.rcParams.update({ 'xtick.major.width': 1.1, 'ytick.major.width': 1.1,\n",
    "'axes.labelsize': 13, 'axes.linewidth': 1.2, 'axes.labelpad': 11,\n",
    "'xtick.labelsize': 11, 'ytick.labelsize': 11, 'figure.figsize': [3, 4],\n",
    "'font.size': 13, 'xtick.major.size': 4, 'ytick.major.size': 4 ,'legend.fontsize': 13})\n",
    "pyplot.rcParams['xtick.minor.visible'], pyplot.rcParams['xtick.top'] = True,True\n",
    "pyplot.rcParams['ytick.minor.visible'], pyplot.rcParams['ytick.right'] = True,True\n",
    "pyplot.rcParams['xtick.direction'], pyplot.rcParams['ytick.direction'] = 'in','in'"
   ]
  },
  {
   "cell_type": "markdown",
   "metadata": {},
   "source": [
    "When you choose to answer a question, the problem becomes binary -- you either get it right or wrong. \n",
    "\n",
    "Choose random variable $X$ = number of correct answers. For one question, we can say _a priori_ that if we pick one of $N$ answers randomly, then $\\mathcal{P}$(correct answer) $=\\frac{1}{N}$, and $\\mathcal{P}$(incorrect answer) $=\\frac{N-1}{N}$. \n",
    "\n",
    "For $n$ answered questions, where $n\\in\\{ 3,4,5 \\}$ due to needing at least 3 correct answers to pass, we can model this problem with a binomial distribution:\n",
    "\n",
    "$$ \\mathcal{P}(X=k)={n\\choose k}\\frac{1}{N^k}  \\bigg(\\frac{N-1}{N} \\bigg)^{n-k}$$\n",
    "\n",
    "Now, we are interested in the score: \n",
    "\n",
    "$$S = 2 \\,\\times \\mathrm{num.~correct~answers} - \\mathrm{num.~incorrect~answers.} $$\n",
    "$$ = 2X - (n-X) $$\n",
    "$$ = 3X - n. $$\n",
    "\n",
    "The question poses that we should try to maximise $\\mathcal{P}(\\mathrm{pass}) = \\mathcal{P}(S\\geqslant 5).$ We can rearrange this for $X$:\n",
    "\n",
    "$$\\mathcal{P}(S\\geqslant 5) = \\mathcal{P}(3X-n\\geqslant 5) $$\n",
    "$$= \\mathcal{P}(X\\geqslant \\frac{5+n}{3}).$$\n",
    "\n",
    "We can compute this probability for different $N$ and $n$ by summing the individual probabilities from the binomial pmf, done in code below:"
   ]
  },
  {
   "cell_type": "code",
   "execution_count": 61,
   "metadata": {},
   "outputs": [],
   "source": [
    "def cumulativeScoreProb(N,n):\n",
    "    p = 1/N\n",
    "    # Work out which integer values k are >= (5+n)/3\n",
    "    kList = [i for i in range(ceil((5+n)/3),n+1)]\n",
    "    # Return the sum of the binomial probabilities for each k\n",
    "    return sum([binom.pmf(k=k,p=p,n=n) for k in kList])"
   ]
  },
  {
   "cell_type": "markdown",
   "metadata": {},
   "source": [
    "Now we can plot this for $n\\in\\{ 3,4,5 \\}$, and $N$ up to 20: "
   ]
  },
  {
   "cell_type": "code",
   "execution_count": 62,
   "metadata": {},
   "outputs": [
    {
     "data": {
      "image/png": "[encoded data removed]",
      "text/plain": [
       "<Figure size 216x288 with 1 Axes>"
      ]
     },
     "metadata": {
      "needs_background": "light"
     },
     "output_type": "display_data"
    }
   ],
   "source": [
    "x = arange(2,20,1)\n",
    "\n",
    "for n in range (3,6):\n",
    "    probs = [cumulativeScoreProb(xi,n) for xi in x]\n",
    "    pyplot.plot(x, probs, label='N = '+str(n))\n",
    "    \n",
    "# Formatting\n",
    "pyplot.xlabel(r'$N$')\n",
    "pyplot.ylabel(r'$\\mathcal{P}$(pass)')\n",
    "pyplot.legend()\n",
    "pyplot.savefig('probs.pdf', bbox_inches='tight')"
   ]
  },
  {
   "cell_type": "code",
   "execution_count": null,
   "metadata": {},
   "outputs": [],
   "source": []
  }
 ],
 "metadata": {
  "kernelspec": {
   "display_name": "Python 3",
   "language": "python",
   "name": "python3"
  },
  "language_info": {
   "codemirror_mode": {
    "name": "ipython",
    "version": 3
   },
   "file_extension": ".py",
   "mimetype": "text/x-python",
   "name": "python",
   "nbconvert_exporter": "python",
   "pygments_lexer": "ipython3",
   "version": "3.7.2"
  }
 },
 "nbformat": 4,
 "nbformat_minor": 2
}
